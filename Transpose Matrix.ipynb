{
 "cells": [
  {
   "cell_type": "markdown",
   "metadata": {},
   "source": [
    "# Vesrion 1"
   ]
  },
  {
   "cell_type": "code",
   "execution_count": 3,
   "metadata": {},
   "outputs": [
    {
     "name": "stdout",
     "output_type": "stream",
     "text": [
      "[1, 2, 3]\n",
      "[4, 5, 6]\n",
      "[7, 8, 9]\n",
      "-----------\n",
      "[1, 4, 7]\n",
      "[2, 5, 8]\n",
      "[3, 6, 9]\n"
     ]
    }
   ],
   "source": [
    "def transpose(matrix):\n",
    "    \"Transpose e.g. [[1,2,3], [4,5,6]] to [[1, 4], [2, 5], [3, 6]]\"\n",
    "\n",
    "    # return list(zip(*matrix)) or\n",
    "    return map(list, zip(*matrix))\n",
    "\n",
    "matrix = [ [1,2,3],\n",
    "           [4,5,6],\n",
    "           [7,8,9]\n",
    "         ]\n",
    "\n",
    "for i in matrix:\n",
    "    \n",
    "    print (i)\n",
    "\n",
    "print (\"-----------\")\n",
    "\n",
    "for i in transpose(matrix):\n",
    "    \n",
    "    print (i)\n",
    "    \n",
    "#也就是說程式覺得一開始的最一開始的lists是 x= [1, 4, 7], y=[2, 5, 8], z=[3, 6, 9]\n",
    "# => matrix == zip(x,y,z) == [[1, 2, 3], [4, 5, 6], [7, 8, 9]]\n",
    "# => transpose(matrix) == zip(*matrix) == [[1, 4, 7], [2, 5, 8], [3, 6, 9]]"
   ]
  },
  {
   "cell_type": "code",
   "execution_count": 4,
   "metadata": {},
   "outputs": [
    {
     "name": "stdout",
     "output_type": "stream",
     "text": [
      "[1, 4, 7]\n",
      "[2, 5, 8]\n",
      "[3, 6, 9]\n",
      "-----------\n",
      "[1, 2, 3]\n",
      "[4, 5, 6]\n",
      "[7, 8, 9]\n"
     ]
    }
   ],
   "source": [
    "x = [1, 2, 3]\n",
    "y = [4, 5, 6]\n",
    "z = [7, 8, 9]\n",
    "\n",
    "for i in zip(x, y, z):\n",
    "    \n",
    "    print (list(i))\n",
    "    \n",
    "print (\"-----------\")\n",
    "\n",
    "for j in zip(*zip(x, y, z)):\n",
    "    \n",
    "    print (list(j))\n",
    "\n",
    "# x= [1, 2, 3], y=[4, 5, 6], z=[7, 8, 9]   \n",
    "    \n",
    "# zip(x, y, z)的值是：[(1, 4, 7), (2, 5, 8), (3, 6, 9)]\n",
    "\n",
    "#那麼，zip(*zip(x, y, z))等價於 zip((1, 4, 7), (2, 5, 8), (3, 6, 9))\n",
    "\n",
    "# => 所以，運行結果是：[(1, 2, 3), (4, 5, 6), (7, 8, 9)]\n"
   ]
  },
  {
   "cell_type": "markdown",
   "metadata": {},
   "source": [
    "# Version 2"
   ]
  },
  {
   "cell_type": "code",
   "execution_count": 5,
   "metadata": {},
   "outputs": [
    {
     "name": "stdout",
     "output_type": "stream",
     "text": [
      "[1, 2, 3]\n",
      "[4, 5, 6]\n",
      "[7, 8, 9]\n",
      "-----------\n",
      "[1, 4, 7]\n",
      "[2, 5, 8]\n",
      "[3, 6, 9]\n"
     ]
    }
   ],
   "source": [
    "def transpose(matrix):\n",
    "\n",
    "    return [[matrix[j][i] for j in range(len(matrix))] for i in range(len(matrix[0]))] # i定住，j = 0-2\n",
    "\n",
    "          #[[matrix[j][i] for i in range(len(matrix))] for j in range(len(matrix[0]))] # j定住，i = 0-2\n",
    "        \n",
    "matrix = [ [1,2,3],\n",
    "           [4,5,6],\n",
    "           [7,8,9]\n",
    "         ]\n",
    "\n",
    "for i in matrix:\n",
    "    \n",
    "    print (i)\n",
    "\n",
    "print (\"-----------\")\n",
    "\n",
    "for i in transpose(matrix):\n",
    "    \n",
    "    print (i)"
   ]
  }
 ],
 "metadata": {
  "kernelspec": {
   "display_name": "Python 3",
   "language": "python",
   "name": "python3"
  },
  "language_info": {
   "codemirror_mode": {
    "name": "ipython",
    "version": 3
   },
   "file_extension": ".py",
   "mimetype": "text/x-python",
   "name": "python",
   "nbconvert_exporter": "python",
   "pygments_lexer": "ipython3",
   "version": "3.7.3"
  }
 },
 "nbformat": 4,
 "nbformat_minor": 2
}
